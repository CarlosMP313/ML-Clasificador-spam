{
 "cells": [
  {
   "cell_type": "code",
   "execution_count": 23,
   "id": "d94f4548-a5aa-4ef7-8d06-fb73f3e28a4e",
   "metadata": {},
   "outputs": [
    {
     "name": "stderr",
     "output_type": "stream",
     "text": [
      "[nltk_data] Error loading stopwords: <urlopen error [Errno 11001]\n",
      "[nltk_data]     getaddrinfo failed>\n"
     ]
    }
   ],
   "source": [
    "import pandas as pd\n",
    "from sklearn.model_selection import train_test_split\n",
    "from sklearn.feature_extraction.text import TfidfVectorizer\n",
    "from sklearn.naive_bayes import MultinomialNB\n",
    "from sklearn.metrics import accuracy_score, classification_report, confusion_matrix\n",
    "import nltk\n",
    "from nltk.corpus import stopwords\n",
    "import re\n",
    "import joblib\n",
    "import os\n",
    "import matplotlib.pyplot as plt\n",
    "import seaborn as sns\n",
    "\n",
    "# Descargar stopwords\n",
    "nltk.download('stopwords')\n",
    "stop_words = set(stopwords.words('spanish'))\n"
   ]
  },
  {
   "cell_type": "code",
   "execution_count": 25,
   "id": "402689f2-d0cb-4fce-9c5d-6968883a4ef8",
   "metadata": {},
   "outputs": [],
   "source": [
    "# Configuración de rutas\n",
    "folder_path = 'C:/Users/carlo/Documents/Laptop Gris/RESPALDO MEMORIA COSA CARLOS/Tecnologico Universidad/Semestre 7 Tec morelia/Taller De Investigacion II/Modelos y datos/Modelo en python'\n",
    "model_filename = 'modelo_entrenado.pkl'\n",
    "vectorizer_filename = 'vectorizer.pkl'\n",
    "processed_files = set()\n",
    "\n",
    "# Crear carpeta para modelos si no existe\n",
    "os.makedirs(folder_path, exist_ok=True)\n",
    "\n",
    "# Función para cargar datos\n",
    "def load_data(file_path):\n",
    "    if os.path.exists(file_path):\n",
    "        return pd.read_csv(file_path)\n",
    "    else:\n",
    "        print(f\"No se encontró el archivo: {file_path}\")\n",
    "        return None\n"
   ]
  },
  {
   "cell_type": "code",
   "execution_count": 27,
   "id": "b713537b-5acd-4701-a435-7bded21aaaf7",
   "metadata": {},
   "outputs": [
    {
     "name": "stdout",
     "output_type": "stream",
     "text": [
      "                                          email_text  label\n",
      "0  Hola, notamos actividad inusual en tu cuenta. ...      1\n",
      "1  Recordatorio: Tu suscripción está a punto de v...      1\n",
      "2        Hola, ¿podemos vernos para almorzar mañana?      0\n",
      "3  ¡Felicidades! Has ganado una tarjeta de regalo...      1\n",
      "4  Estimado cliente, su compra reciente se proces...      0\n"
     ]
    }
   ],
   "source": [
    "# Cargar datos\n",
    "df = load_data(os.path.join(folder_path, 'emails.csv'))\n",
    "if df is not None:\n",
    "    print(df.head())\n",
    "else:\n",
    "    print(\"No se pudo cargar el DataFrame.\")\n"
   ]
  },
  {
   "cell_type": "code",
   "execution_count": 29,
   "id": "32e978ce-2644-4b6e-925d-8f061e66c4e9",
   "metadata": {},
   "outputs": [],
   "source": [
    "# Limpieza de texto\n",
    "def clean_text(text):\n",
    "    text = text.lower()\n",
    "    text = re.sub(r'http\\S+|www\\S+|https\\S+', '', text, flags=re.MULTILINE)\n",
    "    text = re.sub(r'\\W', ' ', text)\n",
    "    text = re.sub(r'\\d', '', text)\n",
    "    text = ' '.join([word for word in text.split() if word not in stop_words])\n",
    "    return text\n",
    "\n",
    "# Aplicar limpieza de texto\n",
    "df['cleaned_text'] = df['email_text'].apply(clean_text)\n"
   ]
  },
  {
   "cell_type": "code",
   "execution_count": 31,
   "id": "a3f859d7-c0f5-4b53-ae53-972655a4380f",
   "metadata": {},
   "outputs": [],
   "source": [
    "# Dividir los datos en entrenamiento y prueba\n",
    "X = df['cleaned_text']\n",
    "y = df['label']\n",
    "X_train, X_test, y_train, y_test = train_test_split(X, y, test_size=0.2, random_state=42)\n"
   ]
  },
  {
   "cell_type": "code",
   "execution_count": 33,
   "id": "10b43101-541b-44fe-bc36-57efa0778dc1",
   "metadata": {},
   "outputs": [
    {
     "name": "stdout",
     "output_type": "stream",
     "text": [
      "Modelo y vectorizador cargados exitosamente.\n"
     ]
    },
    {
     "name": "stderr",
     "output_type": "stream",
     "text": [
      "C:\\Users\\carlo\\anaconda3\\Lib\\site-packages\\sklearn\\base.py:376: InconsistentVersionWarning: Trying to unpickle estimator MultinomialNB from version 1.5.2 when using version 1.5.1. This might lead to breaking code or invalid results. Use at your own risk. For more info please refer to:\n",
      "https://scikit-learn.org/stable/model_persistence.html#security-maintainability-limitations\n",
      "  warnings.warn(\n",
      "C:\\Users\\carlo\\anaconda3\\Lib\\site-packages\\sklearn\\base.py:376: InconsistentVersionWarning: Trying to unpickle estimator TfidfTransformer from version 1.5.2 when using version 1.5.1. This might lead to breaking code or invalid results. Use at your own risk. For more info please refer to:\n",
      "https://scikit-learn.org/stable/model_persistence.html#security-maintainability-limitations\n",
      "  warnings.warn(\n",
      "C:\\Users\\carlo\\anaconda3\\Lib\\site-packages\\sklearn\\base.py:376: InconsistentVersionWarning: Trying to unpickle estimator TfidfVectorizer from version 1.5.2 when using version 1.5.1. This might lead to breaking code or invalid results. Use at your own risk. For more info please refer to:\n",
      "https://scikit-learn.org/stable/model_persistence.html#security-maintainability-limitations\n",
      "  warnings.warn(\n"
     ]
    }
   ],
   "source": [
    "# Intentar cargar el modelo y el vectorizador si existen\n",
    "model_path = os.path.join(folder_path, model_filename)\n",
    "vectorizer_path = os.path.join(folder_path, vectorizer_filename)\n",
    "\n",
    "if os.path.exists(model_path) and os.path.exists(vectorizer_path):\n",
    "    # Cargar modelo y vectorizador\n",
    "    model = joblib.load(model_path)\n",
    "    vectorizer = joblib.load(vectorizer_path)\n",
    "    print(\"Modelo y vectorizador cargados exitosamente.\")\n",
    "else:\n",
    "    # Vectorización con TF-IDF\n",
    "    vectorizer = TfidfVectorizer(max_features=1000)\n",
    "    X_train_tfidf = vectorizer.fit_transform(X_train)\n",
    "\n",
    "    # Entrenar modelo Naive Bayes\n",
    "    model = MultinomialNB()\n",
    "    model.fit(X_train_tfidf, y_train)\n",
    "\n",
    "    # Guardar el modelo y el vectorizador\n",
    "    joblib.dump(model, model_path)\n",
    "    joblib.dump(vectorizer, vectorizer_path)\n",
    "    print(\"Modelo y vectorizador entrenados y guardados.\")\n"
   ]
  },
  {
   "cell_type": "code",
   "execution_count": 35,
   "id": "91b87741-3489-4126-a45b-61a51160eae3",
   "metadata": {},
   "outputs": [
    {
     "name": "stdout",
     "output_type": "stream",
     "text": [
      "Accuracy: 0.8461538461538461\n",
      "Report:\n",
      "               precision    recall  f1-score   support\n",
      "\n",
      "           0       0.86      0.86      0.86         7\n",
      "           1       0.83      0.83      0.83         6\n",
      "\n",
      "    accuracy                           0.85        13\n",
      "   macro avg       0.85      0.85      0.85        13\n",
      "weighted avg       0.85      0.85      0.85        13\n",
      "\n"
     ]
    }
   ],
   "source": [
    "# Evaluación del modelo\n",
    "X_test_tfidf = vectorizer.transform(X_test)\n",
    "y_pred = model.predict(X_test_tfidf)\n",
    "\n",
    "# Imprimir resultados\n",
    "print(\"Accuracy:\", accuracy_score(y_test, y_pred))\n",
    "print(\"Report:\\n\", classification_report(y_test, y_pred))\n"
   ]
  },
  {
   "cell_type": "code",
   "execution_count": 37,
   "id": "6f8bb9e0-5def-474e-8c12-959efe6bf911",
   "metadata": {},
   "outputs": [
    {
     "data": {
      "image/png": "[encoded data removed]",
      "text/plain": [
       "<Figure size 800x600 with 2 Axes>"
      ]
     },
     "metadata": {},
     "output_type": "display_data"
    }
   ],
   "source": [
    "# Visualización de la matriz de confusión\n",
    "cm = confusion_matrix(y_test, y_pred)\n",
    "plt.figure(figsize=(8, 6))\n",
    "sns.heatmap(cm, annot=True, fmt='d', cmap='Blues', xticklabels=['No Spam', 'Spam'], yticklabels=['No Spam', 'Spam'])\n",
    "plt.title('Matriz de Confusión')\n",
    "plt.xlabel('Predicción')\n",
    "plt.ylabel('Realidad')\n",
    "plt.show()\n"
   ]
  },
  {
   "cell_type": "code",
   "execution_count": 39,
   "id": "081ff039-6e64-4d54-bf60-d07369d2ed10",
   "metadata": {},
   "outputs": [
    {
     "data": {
      "image/png": "[encoded data removed]",
      "text/plain": [
       "<Figure size 800x500 with 1 Axes>"
      ]
     },
     "metadata": {},
     "output_type": "display_data"
    }
   ],
   "source": [
    "# Visualización de las métricas de rendimiento\n",
    "from sklearn.metrics import precision_recall_fscore_support\n",
    "precision, recall, fscore, _ = precision_recall_fscore_support(y_test, y_pred, average='binary')\n",
    "\n",
    "labels = ['Precision', 'Recall', 'F1 Score']\n",
    "scores = [precision, recall, fscore]\n",
    "\n",
    "plt.figure(figsize=(8, 5))\n",
    "sns.barplot(x=labels, y=scores)\n",
    "plt.title('Métricas del Modelo')\n",
    "plt.ylim(0, 1)\n",
    "plt.show()\n"
   ]
  },
  {
   "cell_type": "code",
   "execution_count": 19,
   "id": "f730c6f0-33a0-467a-9b28-3e7cdc871a19",
   "metadata": {},
   "outputs": [],
   "source": [
    "# Manejo de nuevos correos electrónicos\n",
    "for filename in os.listdir(folder_path):\n",
    "    if filename.endswith('.csv') and filename not in processed_files and filename != 'emails.csv':\n",
    "        nuevos_email_path = os.path.join(folder_path, filename)\n",
    "        nuevos_emails = load_data(nuevos_email_path)\n",
    "\n",
    "        if nuevos_emails is not None:\n",
    "            nuevos_emails['cleaned_text'] = nuevos_emails['email_text'].apply(clean_text)\n",
    "\n",
    "            # Transformar nuevos correos\n",
    "            X_nuevos_tfidf = vectorizer.transform(nuevos_emails['cleaned_text'])\n",
    "\n",
    "            # Predecir nuevos correos\n",
    "            nuevos_predicciones = model.predict(X_nuevos_tfidf)\n",
    "            nuevos_emails['predicciones'] = nuevos_predicciones\n",
    "\n",
    "            print(f\"Predicciones para el archivo {filename}:\")\n",
    "            print(nuevos_emails[['email_text', 'predicciones']])\n",
    "            \n",
    "            # Añadir archivo a la lista de procesados\n",
    "            processed_files.add(filename)\n"
   ]
  },
  {
   "cell_type": "code",
   "execution_count": null,
   "id": "e1809d51-0cb1-4b53-89ec-dd1f06b03a93",
   "metadata": {},
   "outputs": [],
   "source": []
  }
 ],
 "metadata": {
  "kernelspec": {
   "display_name": "Python 3 (ipykernel)",
   "language": "python",
   "name": "python3"
  },
  "language_info": {
   "codemirror_mode": {
    "name": "ipython",
    "version": 3
   },
   "file_extension": ".py",
   "mimetype": "text/x-python",
   "name": "python",
   "nbconvert_exporter": "python",
   "pygments_lexer": "ipython3",
   "version": "3.12.7"
  }
 },
 "nbformat": 4,
 "nbformat_minor": 5
}
